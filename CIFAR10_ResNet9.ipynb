{
  "nbformat": 4,
  "nbformat_minor": 0,
  "metadata": {
    "colab": {
      "name": "CIFAR10_ResNet9.ipynb",
      "provenance": [],
      "collapsed_sections": []
    },
    "kernelspec": {
      "name": "python3",
      "display_name": "Python 3"
    },
    "language_info": {
      "name": "python"
    },
    "accelerator": "GPU",
    "gpuClass": "standard",
    "widgets": {
      "application/vnd.jupyter.widget-state+json": {
        "ad2918ba3303481190ee72ff6aee6cdf": {
          "model_module": "@jupyter-widgets/controls",
          "model_name": "HBoxModel",
          "model_module_version": "1.5.0",
          "state": {
            "_dom_classes": [],
            "_model_module": "@jupyter-widgets/controls",
            "_model_module_version": "1.5.0",
            "_model_name": "HBoxModel",
            "_view_count": null,
            "_view_module": "@jupyter-widgets/controls",
            "_view_module_version": "1.5.0",
            "_view_name": "HBoxView",
            "box_style": "",
            "children": [
              "IPY_MODEL_4547e5e5d6ba4275a668ad796166b416",
              "IPY_MODEL_873337ade4554fdbadbfc14954e8ab09",
              "IPY_MODEL_b649f02b5d984b2ca00ff61adc45b3da"
            ],
            "layout": "IPY_MODEL_ac31ff8c1b384245b65c61d5684dde8f"
          }
        },
        "4547e5e5d6ba4275a668ad796166b416": {
          "model_module": "@jupyter-widgets/controls",
          "model_name": "HTMLModel",
          "model_module_version": "1.5.0",
          "state": {
            "_dom_classes": [],
            "_model_module": "@jupyter-widgets/controls",
            "_model_module_version": "1.5.0",
            "_model_name": "HTMLModel",
            "_view_count": null,
            "_view_module": "@jupyter-widgets/controls",
            "_view_module_version": "1.5.0",
            "_view_name": "HTMLView",
            "description": "",
            "description_tooltip": null,
            "layout": "IPY_MODEL_67b94bba41f94846802fab4187930cb8",
            "placeholder": "​",
            "style": "IPY_MODEL_c504eb89bf19449da25d282fcb6429be",
            "value": "100%"
          }
        },
        "873337ade4554fdbadbfc14954e8ab09": {
          "model_module": "@jupyter-widgets/controls",
          "model_name": "FloatProgressModel",
          "model_module_version": "1.5.0",
          "state": {
            "_dom_classes": [],
            "_model_module": "@jupyter-widgets/controls",
            "_model_module_version": "1.5.0",
            "_model_name": "FloatProgressModel",
            "_view_count": null,
            "_view_module": "@jupyter-widgets/controls",
            "_view_module_version": "1.5.0",
            "_view_name": "ProgressView",
            "bar_style": "success",
            "description": "",
            "description_tooltip": null,
            "layout": "IPY_MODEL_618d7d0651954ec88811b04c9ff38aca",
            "max": 170498071,
            "min": 0,
            "orientation": "horizontal",
            "style": "IPY_MODEL_cf02ecd15fc64db6a919b1123e7dd24e",
            "value": 170498071
          }
        },
        "b649f02b5d984b2ca00ff61adc45b3da": {
          "model_module": "@jupyter-widgets/controls",
          "model_name": "HTMLModel",
          "model_module_version": "1.5.0",
          "state": {
            "_dom_classes": [],
            "_model_module": "@jupyter-widgets/controls",
            "_model_module_version": "1.5.0",
            "_model_name": "HTMLModel",
            "_view_count": null,
            "_view_module": "@jupyter-widgets/controls",
            "_view_module_version": "1.5.0",
            "_view_name": "HTMLView",
            "description": "",
            "description_tooltip": null,
            "layout": "IPY_MODEL_ec705a64b54b4ea596df2ec585173c25",
            "placeholder": "​",
            "style": "IPY_MODEL_e914721b230141c6a3c51b37d782e4b7",
            "value": " 170498071/170498071 [00:13&lt;00:00, 14829330.01it/s]"
          }
        },
        "ac31ff8c1b384245b65c61d5684dde8f": {
          "model_module": "@jupyter-widgets/base",
          "model_name": "LayoutModel",
          "model_module_version": "1.2.0",
          "state": {
            "_model_module": "@jupyter-widgets/base",
            "_model_module_version": "1.2.0",
            "_model_name": "LayoutModel",
            "_view_count": null,
            "_view_module": "@jupyter-widgets/base",
            "_view_module_version": "1.2.0",
            "_view_name": "LayoutView",
            "align_content": null,
            "align_items": null,
            "align_self": null,
            "border": null,
            "bottom": null,
            "display": null,
            "flex": null,
            "flex_flow": null,
            "grid_area": null,
            "grid_auto_columns": null,
            "grid_auto_flow": null,
            "grid_auto_rows": null,
            "grid_column": null,
            "grid_gap": null,
            "grid_row": null,
            "grid_template_areas": null,
            "grid_template_columns": null,
            "grid_template_rows": null,
            "height": null,
            "justify_content": null,
            "justify_items": null,
            "left": null,
            "margin": null,
            "max_height": null,
            "max_width": null,
            "min_height": null,
            "min_width": null,
            "object_fit": null,
            "object_position": null,
            "order": null,
            "overflow": null,
            "overflow_x": null,
            "overflow_y": null,
            "padding": null,
            "right": null,
            "top": null,
            "visibility": null,
            "width": null
          }
        },
        "67b94bba41f94846802fab4187930cb8": {
          "model_module": "@jupyter-widgets/base",
          "model_name": "LayoutModel",
          "model_module_version": "1.2.0",
          "state": {
            "_model_module": "@jupyter-widgets/base",
            "_model_module_version": "1.2.0",
            "_model_name": "LayoutModel",
            "_view_count": null,
            "_view_module": "@jupyter-widgets/base",
            "_view_module_version": "1.2.0",
            "_view_name": "LayoutView",
            "align_content": null,
            "align_items": null,
            "align_self": null,
            "border": null,
            "bottom": null,
            "display": null,
            "flex": null,
            "flex_flow": null,
            "grid_area": null,
            "grid_auto_columns": null,
            "grid_auto_flow": null,
            "grid_auto_rows": null,
            "grid_column": null,
            "grid_gap": null,
            "grid_row": null,
            "grid_template_areas": null,
            "grid_template_columns": null,
            "grid_template_rows": null,
            "height": null,
            "justify_content": null,
            "justify_items": null,
            "left": null,
            "margin": null,
            "max_height": null,
            "max_width": null,
            "min_height": null,
            "min_width": null,
            "object_fit": null,
            "object_position": null,
            "order": null,
            "overflow": null,
            "overflow_x": null,
            "overflow_y": null,
            "padding": null,
            "right": null,
            "top": null,
            "visibility": null,
            "width": null
          }
        },
        "c504eb89bf19449da25d282fcb6429be": {
          "model_module": "@jupyter-widgets/controls",
          "model_name": "DescriptionStyleModel",
          "model_module_version": "1.5.0",
          "state": {
            "_model_module": "@jupyter-widgets/controls",
            "_model_module_version": "1.5.0",
            "_model_name": "DescriptionStyleModel",
            "_view_count": null,
            "_view_module": "@jupyter-widgets/base",
            "_view_module_version": "1.2.0",
            "_view_name": "StyleView",
            "description_width": ""
          }
        },
        "618d7d0651954ec88811b04c9ff38aca": {
          "model_module": "@jupyter-widgets/base",
          "model_name": "LayoutModel",
          "model_module_version": "1.2.0",
          "state": {
            "_model_module": "@jupyter-widgets/base",
            "_model_module_version": "1.2.0",
            "_model_name": "LayoutModel",
            "_view_count": null,
            "_view_module": "@jupyter-widgets/base",
            "_view_module_version": "1.2.0",
            "_view_name": "LayoutView",
            "align_content": null,
            "align_items": null,
            "align_self": null,
            "border": null,
            "bottom": null,
            "display": null,
            "flex": null,
            "flex_flow": null,
            "grid_area": null,
            "grid_auto_columns": null,
            "grid_auto_flow": null,
            "grid_auto_rows": null,
            "grid_column": null,
            "grid_gap": null,
            "grid_row": null,
            "grid_template_areas": null,
            "grid_template_columns": null,
            "grid_template_rows": null,
            "height": null,
            "justify_content": null,
            "justify_items": null,
            "left": null,
            "margin": null,
            "max_height": null,
            "max_width": null,
            "min_height": null,
            "min_width": null,
            "object_fit": null,
            "object_position": null,
            "order": null,
            "overflow": null,
            "overflow_x": null,
            "overflow_y": null,
            "padding": null,
            "right": null,
            "top": null,
            "visibility": null,
            "width": null
          }
        },
        "cf02ecd15fc64db6a919b1123e7dd24e": {
          "model_module": "@jupyter-widgets/controls",
          "model_name": "ProgressStyleModel",
          "model_module_version": "1.5.0",
          "state": {
            "_model_module": "@jupyter-widgets/controls",
            "_model_module_version": "1.5.0",
            "_model_name": "ProgressStyleModel",
            "_view_count": null,
            "_view_module": "@jupyter-widgets/base",
            "_view_module_version": "1.2.0",
            "_view_name": "StyleView",
            "bar_color": null,
            "description_width": ""
          }
        },
        "ec705a64b54b4ea596df2ec585173c25": {
          "model_module": "@jupyter-widgets/base",
          "model_name": "LayoutModel",
          "model_module_version": "1.2.0",
          "state": {
            "_model_module": "@jupyter-widgets/base",
            "_model_module_version": "1.2.0",
            "_model_name": "LayoutModel",
            "_view_count": null,
            "_view_module": "@jupyter-widgets/base",
            "_view_module_version": "1.2.0",
            "_view_name": "LayoutView",
            "align_content": null,
            "align_items": null,
            "align_self": null,
            "border": null,
            "bottom": null,
            "display": null,
            "flex": null,
            "flex_flow": null,
            "grid_area": null,
            "grid_auto_columns": null,
            "grid_auto_flow": null,
            "grid_auto_rows": null,
            "grid_column": null,
            "grid_gap": null,
            "grid_row": null,
            "grid_template_areas": null,
            "grid_template_columns": null,
            "grid_template_rows": null,
            "height": null,
            "justify_content": null,
            "justify_items": null,
            "left": null,
            "margin": null,
            "max_height": null,
            "max_width": null,
            "min_height": null,
            "min_width": null,
            "object_fit": null,
            "object_position": null,
            "order": null,
            "overflow": null,
            "overflow_x": null,
            "overflow_y": null,
            "padding": null,
            "right": null,
            "top": null,
            "visibility": null,
            "width": null
          }
        },
        "e914721b230141c6a3c51b37d782e4b7": {
          "model_module": "@jupyter-widgets/controls",
          "model_name": "DescriptionStyleModel",
          "model_module_version": "1.5.0",
          "state": {
            "_model_module": "@jupyter-widgets/controls",
            "_model_module_version": "1.5.0",
            "_model_name": "DescriptionStyleModel",
            "_view_count": null,
            "_view_module": "@jupyter-widgets/base",
            "_view_module_version": "1.2.0",
            "_view_name": "StyleView",
            "description_width": ""
          }
        }
      }
    }
  },
  "cells": [
    {
      "cell_type": "code",
      "execution_count": 1,
      "metadata": {
        "id": "TufaJsaWW8IR"
      },
      "outputs": [],
      "source": [
        "import os\n",
        "import torch\n",
        "import torchvision\n",
        "import torch.nn as nn\n",
        "import numpy as np\n",
        "import torch.nn.functional as F\n",
        "from torchvision.datasets import CIFAR10\n",
        "from torch.utils.data import DataLoader, random_split\n",
        "import torchvision.transforms as tt\n",
        "from torch.utils.data import random_split\n",
        "from torchvision.utils import make_grid\n",
        "import matplotlib\n",
        "import matplotlib.pyplot as plt"
      ]
    },
    {
      "cell_type": "code",
      "source": [
        "stats = [(0.4914, 0.4822, 0.4465), (0.2023, 0.1994, 0.2010)]\n",
        "train_tfm = tt.Compose([tt.RandomCrop(32, padding=4, padding_mode='reflect'),\n",
        "                        tt.RandomHorizontalFlip(),\n",
        "                        tt.ToTensor(),\n",
        "                        tt.Normalize(*stats, inplace=True)])\n",
        "val_tfm = tt.Compose([tt.ToTensor(), tt.Normalize(*stats)])\n",
        "val_ds = CIFAR10(\n",
        "    root='./data', train=False, download=True, transform=val_tfm)\n",
        "train_ds = CIFAR10(\n",
        "    root='./data', train=True, download=True, transform=train_tfm)"
      ],
      "metadata": {
        "id": "Ucll11-NYnzQ",
        "colab": {
          "base_uri": "https://localhost:8080/",
          "height": 151,
          "referenced_widgets": [
            "ad2918ba3303481190ee72ff6aee6cdf",
            "4547e5e5d6ba4275a668ad796166b416",
            "873337ade4554fdbadbfc14954e8ab09",
            "b649f02b5d984b2ca00ff61adc45b3da",
            "ac31ff8c1b384245b65c61d5684dde8f",
            "67b94bba41f94846802fab4187930cb8",
            "c504eb89bf19449da25d282fcb6429be",
            "618d7d0651954ec88811b04c9ff38aca",
            "cf02ecd15fc64db6a919b1123e7dd24e",
            "ec705a64b54b4ea596df2ec585173c25",
            "e914721b230141c6a3c51b37d782e4b7"
          ]
        },
        "outputId": "f5e28a11-f642-49cd-ab2d-773bb5b23874"
      },
      "execution_count": 2,
      "outputs": [
        {
          "output_type": "stream",
          "name": "stdout",
          "text": [
            "Downloading https://www.cs.toronto.edu/~kriz/cifar-10-python.tar.gz to ./data/cifar-10-python.tar.gz\n"
          ]
        },
        {
          "output_type": "display_data",
          "data": {
            "text/plain": [
              "  0%|          | 0/170498071 [00:00<?, ?it/s]"
            ],
            "application/vnd.jupyter.widget-view+json": {
              "version_major": 2,
              "version_minor": 0,
              "model_id": "ad2918ba3303481190ee72ff6aee6cdf"
            }
          },
          "metadata": {}
        },
        {
          "output_type": "stream",
          "name": "stdout",
          "text": [
            "Extracting ./data/cifar-10-python.tar.gz to ./data\n",
            "Files already downloaded and verified\n"
          ]
        }
      ]
    },
    {
      "cell_type": "code",
      "source": [
        "batch_size = 128\n",
        "train_dl = DataLoader(train_ds, batch_size, shuffle=True, num_workers=2, pin_memory=True)\n",
        "val_dl = DataLoader(val_ds, batch_size, num_workers=2, pin_memory=True)"
      ],
      "metadata": {
        "id": "XyWf1D_NdrmO"
      },
      "execution_count": 3,
      "outputs": []
    },
    {
      "cell_type": "code",
      "source": [
        "from torch.utils import data\n",
        "def get_default_device():\n",
        "  if torch.cuda.is_available():\n",
        "    return torch.device('cuda')\n",
        "  else:\n",
        "    return torch.device('cpu')\n",
        "\n",
        "  \n",
        "def to_device(data, device):\n",
        "  if isinstance(data, (list, tuple)):\n",
        "    return [to_device(x, device) for x in data]\n",
        "  else:\n",
        "    return data.to(device, non_blocking=True)\n",
        "\n",
        "\n",
        "class DeviceDataLoader():\n",
        "  def __init__(self, dl, device):\n",
        "    self.dl = dl\n",
        "    self.device = device\n",
        "  \n",
        "  def __iter__(self):\n",
        "    for b in self.dl:\n",
        "      yield to_device(b, self.device)\n",
        "  \n",
        "  def __len__(self):\n",
        "    return len(self.dl)"
      ],
      "metadata": {
        "id": "aBcnAe8TeMSC"
      },
      "execution_count": 4,
      "outputs": []
    },
    {
      "cell_type": "code",
      "source": [
        "def accuracy(output, label):\n",
        "  _, pred = torch.max(output, dim=1)\n",
        "  return torch.tensor(torch.sum(pred == label).item() / len(pred))\n",
        "\n",
        "class CIFAR10ClassificationBase(nn.Module):\n",
        "\n",
        "  def training_step(self, batch):\n",
        "    image, label = batch\n",
        "    out = self(image)\n",
        "    loss = F.cross_entropy(out, label)\n",
        "    acc = accuracy(out, label)\n",
        "    return loss\n",
        "\n",
        "  def validation_step(self, batch):\n",
        "    image, label = batch\n",
        "    out = self(image)\n",
        "    loss = F.cross_entropy(out, label)\n",
        "    acc = accuracy(out, label)\n",
        "    return {'val_loss': loss.detach(), 'val_acc': acc}\n",
        "  \n",
        "  def validation_epoch_end(self, output):\n",
        "    batch_losses = [x['val_loss'] for x in output]\n",
        "    epoch_loss = torch.stack(batch_losses).mean()\n",
        "    batch_accs = [x['val_acc'] for x in output]\n",
        "    epoch_acc = torch.stack(batch_accs).mean()\n",
        "    return {'val_loss': epoch_loss.item(), 'val_acc': epoch_acc.item()}\n",
        "  \n",
        "  def epoch_end(self, epoch, result):\n",
        "    print(\"Epoch [{}], last_lr: {:.4f}, train_loss: {:.4f}, val_loss: {:.4f}, val_acc: {:.4f}\".format(\n",
        "            epoch, result['lr'][-1], result['train_loss'], result['val_loss'], result['val_acc']))"
      ],
      "metadata": {
        "id": "otlVtGLygiXg"
      },
      "execution_count": 5,
      "outputs": []
    },
    {
      "cell_type": "code",
      "source": [
        "def conv_block(in_channels, out_channels, pool=False):\n",
        "  layers = [nn.Conv2d(in_channels, out_channels, kernel_size=3, padding=1),\n",
        "            nn.BatchNorm2d(out_channels),\n",
        "            nn.ReLU(inplace=True)]\n",
        "  if pool: \n",
        "    layers.append(nn.MaxPool2d(2))\n",
        "  return nn.Sequential(*layers)"
      ],
      "metadata": {
        "id": "KBeXdfs0qk2m"
      },
      "execution_count": 6,
      "outputs": []
    },
    {
      "cell_type": "code",
      "source": [
        "class ResNet9(CIFAR10ClassificationBase):\n",
        "  def __init__(self, in_channels, out_classes):\n",
        "    super().__init__()\n",
        "\n",
        "    self.conv1 = conv_block(in_channels, 64)\n",
        "    self.conv2 = conv_block(64, 128, pool=True)\n",
        "    self.res1 = nn.Sequential(conv_block(128, 128), conv_block(128, 128))\n",
        "\n",
        "    self.conv3 = conv_block(128, 256, pool=True)\n",
        "    self.conv4 = conv_block(256, 512, pool=True)\n",
        "    self.res2 = nn.Sequential(conv_block(512, 512), conv_block(512, 512))\n",
        "\n",
        "    self.classifier = nn.Sequential(nn.MaxPool2d(4),\n",
        "                                    nn.Flatten(),\n",
        "                                    nn.Dropout(0.2),\n",
        "                                    nn.Linear(512, out_classes))\n",
        "    \n",
        "  def forward(self, xb):\n",
        "    out = self.conv1(xb)\n",
        "    out = self.conv2(out)\n",
        "    out = self.res1(out) + out\n",
        "    out = self.conv3(out)\n",
        "    out = self.conv4(out)\n",
        "    out = self.res2(out) + out\n",
        "    out = self.classifier(out)\n",
        "    return out"
      ],
      "metadata": {
        "id": "5rBZdTtgyB0H"
      },
      "execution_count": 7,
      "outputs": []
    },
    {
      "cell_type": "code",
      "source": [
        "@torch.no_grad()\n",
        "def evaluate(model, val_loader):\n",
        "  model.eval()\n",
        "  outputs = [model.validation_step(batch) for batch in val_loader]\n",
        "  return model.validation_epoch_end(outputs)\n",
        "\n",
        "\n",
        "def get_lr(optimizer):\n",
        "  for param_group in optimizer.param_groups:\n",
        "    return param_group['lr']\n",
        "\n",
        "\n",
        "def fit_one_cycle(epochs, max_lr, model, train_loader, val_loader\n",
        "                  , weight_decay, grad_clip=0, opt_func=torch.optim.SGD):\n",
        "  torch.cuda.empty_cache()\n",
        "  history = []\n",
        "  \n",
        "\n",
        "  optimizer = opt_func(model.parameters(), max_lr, weight_decay=weight_decay)\n",
        "  scheduled = torch.optim.lr_scheduler.OneCycleLR(\n",
        "      optimizer, max_lr, epochs=epochs, steps_per_epoch = len(train_loader))\n",
        "  \n",
        "\n",
        "  for epoch in range(epochs):\n",
        "    model.train()\n",
        "    train_losses = []\n",
        "    lrs = []\n",
        "    for batch in train_loader:\n",
        "      loss = model.training_step(batch)\n",
        "      train_losses.append(loss)\n",
        "      loss.backward()\n",
        "    \n",
        "      if grad_clip:\n",
        "        nn.utils.clip_grad_value_(model.parameters(), grad_clip)\n",
        "      \n",
        "      optimizer.step()\n",
        "      optimizer.zero_grad()\n",
        "\n",
        "      lrs.append(get_lr(optimizer))\n",
        "      scheduled.step()\n",
        "\n",
        "    result = evaluate(model, val_loader)\n",
        "    result['train_loss'] = torch.stack(train_losses).mean().item()\n",
        "    result['lr'] = lrs\n",
        "    model.epoch_end(epoch, result)\n",
        "    history.append(result)\n",
        "  return history"
      ],
      "metadata": {
        "id": "baBysdYM_1_V"
      },
      "execution_count": 8,
      "outputs": []
    },
    {
      "cell_type": "code",
      "source": [
        "device = get_default_device()\n",
        "model = to_device(ResNet9(3, 10), device)\n",
        "train_dl = DeviceDataLoader(train_dl, device)\n",
        "val_dl = DeviceDataLoader(val_dl, device)\n",
        "\n",
        "epochs = 10\n",
        "max_lr = 0.01\n",
        "grad_clip = 0.1\n",
        "weight_decay = 0.0001\n",
        "opt_func = torch.optim.Adam"
      ],
      "metadata": {
        "id": "5Fpin2r0yx8m"
      },
      "execution_count": 9,
      "outputs": []
    },
    {
      "cell_type": "code",
      "source": [
        "%%time\n",
        "history = [evaluate(model, val_dl)]\n",
        "history += fit_one_cycle(epochs, max_lr, model, train_dl, val_dl\n",
        "                         , grad_clip=grad_clip, weight_decay=weight_decay, \n",
        "                         opt_func=opt_func)"
      ],
      "metadata": {
        "id": "d7LFmlm3zuPN",
        "colab": {
          "base_uri": "https://localhost:8080/"
        },
        "outputId": "b2ebe37f-c316-4396-a5be-ecd14ed047c8"
      },
      "execution_count": 10,
      "outputs": [
        {
          "output_type": "stream",
          "name": "stdout",
          "text": [
            "Epoch [0], last_lr: 0.0028, train_loss: 1.4160, val_loss: 2.2240, val_acc: 0.4329\n",
            "Epoch [1], last_lr: 0.0076, train_loss: 1.0677, val_loss: 1.3757, val_acc: 0.5852\n",
            "Epoch [2], last_lr: 0.0100, train_loss: 0.8174, val_loss: 0.8216, val_acc: 0.7201\n",
            "Epoch [3], last_lr: 0.0095, train_loss: 0.6777, val_loss: 1.0444, val_acc: 0.6704\n",
            "Epoch [4], last_lr: 0.0081, train_loss: 0.6161, val_loss: 0.6713, val_acc: 0.7674\n",
            "Epoch [5], last_lr: 0.0061, train_loss: 0.5549, val_loss: 0.6141, val_acc: 0.7927\n",
            "Epoch [6], last_lr: 0.0039, train_loss: 0.4908, val_loss: 0.4418, val_acc: 0.8526\n",
            "Epoch [7], last_lr: 0.0019, train_loss: 0.3887, val_loss: 0.3960, val_acc: 0.8708\n",
            "Epoch [8], last_lr: 0.0005, train_loss: 0.2807, val_loss: 0.2940, val_acc: 0.9028\n",
            "Epoch [9], last_lr: 0.0000, train_loss: 0.2000, val_loss: 0.2673, val_acc: 0.9120\n",
            "CPU times: user 2min 35s, sys: 6.23 s, total: 2min 42s\n",
            "Wall time: 5min 14s\n"
          ]
        }
      ]
    },
    {
      "cell_type": "code",
      "source": [
        "torch.save(model.state_dict(), 'CIFAR10_ResNet9.pth')"
      ],
      "metadata": {
        "id": "BO211Zqt3ywc"
      },
      "execution_count": 11,
      "outputs": []
    },
    {
      "cell_type": "code",
      "source": [
        "def loss_vs_epoch(history):\n",
        "  train_ls = [result.get('train_loss') for result in history]\n",
        "  val_ls = [result['val_loss'] for result in history]\n",
        "  plt.plot(train_ls, '-ro')\n",
        "  plt.plot(val_ls, '-bo')\n",
        "  plt.xlabel('Epoch')\n",
        "  plt.ylabel('Loss')\n",
        "  plt.legend(['Train', 'Validation'])\n",
        "  plt.title('Loss vs Epoch')"
      ],
      "metadata": {
        "id": "OKSuZ7JT4Fyv"
      },
      "execution_count": 12,
      "outputs": []
    },
    {
      "cell_type": "code",
      "source": [
        "def acc_vs_epoch(history):\n",
        "  val_ac = [result['val_acc'] for result in history]\n",
        "  plt.plot(val_ac, '-x')\n",
        "  plt.xlabel('Accuracy')\n",
        "  plt.ylabel('Epoch')\n",
        "  plt.title('Accuracy vs Epoch')"
      ],
      "metadata": {
        "id": "sfsUoQMp50lq"
      },
      "execution_count": 13,
      "outputs": []
    },
    {
      "cell_type": "code",
      "source": [
        "def plot_lr(history):\n",
        "  learning_rate = np.concatenate([result.get('lr', []) for result in history])\n",
        "  plt.plot(learning_rate)\n",
        "  plt.ylabel('Learning rate')\n",
        "  plt.xlabel('Batch')\n",
        "  plt.title('Learning Rate Curve')"
      ],
      "metadata": {
        "id": "cR6LBE1r6jDV"
      },
      "execution_count": 14,
      "outputs": []
    },
    {
      "cell_type": "code",
      "source": [
        "loss_vs_epoch(history)"
      ],
      "metadata": {
        "id": "JiqRTeEl5Nhp",
        "colab": {
          "base_uri": "https://localhost:8080/",
          "height": 295
        },
        "outputId": "9de7f595-367b-47ab-8670-e6e5a754b539"
      },
      "execution_count": 15,
      "outputs": [
        {
          "output_type": "display_data",
          "data": {
            "text/plain": [
              "<Figure size 432x288 with 1 Axes>"
            ],
            "image/png": "[encoded data removed]"
          },
          "metadata": {
            "needs_background": "light"
          }
        }
      ]
    },
    {
      "cell_type": "code",
      "source": [
        "acc_vs_epoch(history)"
      ],
      "metadata": {
        "id": "ebHt4e5i6VEv",
        "colab": {
          "base_uri": "https://localhost:8080/",
          "height": 295
        },
        "outputId": "abdb33c0-2449-4829-9a2b-974bb6860384"
      },
      "execution_count": 16,
      "outputs": [
        {
          "output_type": "display_data",
          "data": {
            "text/plain": [
              "<Figure size 432x288 with 1 Axes>"
            ],
            "image/png": "[encoded data removed]"
          },
          "metadata": {
            "needs_background": "light"
          }
        }
      ]
    },
    {
      "cell_type": "code",
      "source": [
        "plot_lr(history)"
      ],
      "metadata": {
        "id": "UBUc8CF77Jp5",
        "colab": {
          "base_uri": "https://localhost:8080/",
          "height": 295
        },
        "outputId": "427dfdc2-10d6-4e1a-c410-cfbe66be9478"
      },
      "execution_count": 17,
      "outputs": [
        {
          "output_type": "display_data",
          "data": {
            "text/plain": [
              "<Figure size 432x288 with 1 Axes>"
            ],
            "image/png": "[encoded data removed]"
          },
          "metadata": {
            "needs_background": "light"
          }
        }
      ]
    }
  ]
}